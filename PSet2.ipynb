{
 "cells": [
  {
   "cell_type": "code",
   "execution_count": 1,
   "id": "8a57c177-f82e-42b7-a1ea-50541a845ec9",
   "metadata": {},
   "outputs": [
    {
     "data": {
      "text/plain": [
       "'/home/jovyan'"
      ]
     },
     "metadata": {},
     "output_type": "display_data"
    }
   ],
   "source": [
    "import warnings\n",
    "import os\n",
    "display(os.getcwd())"
   ]
  },
  {
   "cell_type": "code",
   "execution_count": 2,
   "id": "066b3e53-ce67-4ee5-9747-f4f207f57b9e",
   "metadata": {},
   "outputs": [],
   "source": [
    "import numpy as np\n",
    "import pandas as pd\n",
    "import matplotlib as plt\n",
    "\n",
    "import astropy.units as u\n",
    "import astropy.coordinates as coord\n",
    "from astropy.coordinates import get_body\n",
    "from astropy.time import Time\n",
    "\n",
    "from astroplan.plots import plot_finder_image, plot_airmass\n",
    "from astroplan import Observer, FixedTarget, time_grid_from_range\n",
    "\n",
    "from astroquery.simbad import Simbad as simbad"
   ]
  },
  {
   "cell_type": "markdown",
   "id": "4e430b45-a148-47f0-89bc-8e10539e79dd",
   "metadata": {},
   "source": [
    "## Building Functions\n",
    "<b> (scroll down for lab portion) </b>"
   ]
  },
  {
   "cell_type": "code",
   "execution_count": null,
   "id": "5c9b3678-78ed-4afa-8cd4-74eea62a90a4",
   "metadata": {},
   "outputs": [],
   "source": []
  },
  {
   "cell_type": "markdown",
   "id": "91d794cb-1e93-4624-a028-3bcd90712522",
   "metadata": {},
   "source": [
    "## Lab 2 - Properties of Celestial Objects\n",
    "One of the challenging parts of designing and executing a research project is differentiating between the results of data (our measurements), and a connection to physical properties of astronomical objects. It can be easy to get stuck on the plot we're going to make or quantity we're going to measure (because it is important, and crucial to our planning). This assignment is to practice pulling you back to the bigger picture - when we measure the apparent magnitude of something, what are we trying to learn about a system? (It could be distance, luminosity, period... and more!)\r\n",
    "\r\n",
    "It isn't something you have to do fast - that's why it has a slightly longer due date. When you have a little time to think about it, sit down and tackle it. "
   ]
  },
  {
   "cell_type": "markdown",
   "id": "2ba1c632-54c5-4bdf-b79c-7723c200b51d",
   "metadata": {},
   "source": [
    "#### Find the following ratios to one place accuracy. Give the values that go into the ratios in convenient units (not necessarily SI) and make some comment on each that will help you visualize them.\n",
    "A. <u>Size & Distance (Select two values to compare)</u>\n",
    "- <b> Radius of Earth TO radius of a marble </b>\n",
    "- <b> Distance to sun TO radius of sun </b>\n",
    "- Distance to center of the Milky Way Galaxy TO distance to the nearest star\n",
    "- Distance to nearest star TO diameter of a typical star like the Sun\n",
    "- Distance to M31 TO diameter of the Milky Way Galaxy\n",
    "\n",
    "B. <u>Energy (Select one to answer from)</u>\n",
    "- <b> 10-MeV gamma ray TO a 3-keV x-ray </b>\n",
    "- 3-keV x-ray TO a 500nm visible photon\n",
    "- 500nm visible photon TO a 10m radio wave\n",
    "\n",
    "C. <u>Power (Answer both in)</u>\n",
    "- <b> Solar power intercepted by Earth TO luminosity of sun </b>\n",
    "- <b> Luminosity of the Galaxy TO the luminosity of the sun </b>"
   ]
  },
  {
   "cell_type": "code",
   "execution_count": 11,
   "id": "2dc40a4b-993e-49f0-94a1-06699983085d",
   "metadata": {},
   "outputs": [
    {
     "data": {
      "text/latex": [
       "$4.9062308 \\times 10^{8} \\; \\mathrm{}$"
      ],
      "text/plain": [
       "<Quantity 4.90623077e+08>"
      ]
     },
     "execution_count": 11,
     "metadata": {},
     "output_type": "execute_result"
    }
   ],
   "source": [
    "# ratio of Earth's radius vs average marble radius:\n",
    "\n",
    "(u.earthRad / (0.013 * u.m)).decompose()"
   ]
  },
  {
   "cell_type": "code",
   "execution_count": 12,
   "id": "1e132309-62b1-4741-ae97-78264dfd5b4c",
   "metadata": {},
   "outputs": [
    {
     "data": {
      "text/latex": [
       "$\\mathrm{215.03216}$"
      ],
      "text/plain": [
       "Unit(dimensionless with a scale of 215.03215567054764)"
      ]
     },
     "execution_count": 12,
     "metadata": {},
     "output_type": "execute_result"
    }
   ],
   "source": [
    "# ratio of distance to sun vs radius of sun:\n",
    "\n",
    "(u.AU / u.solRad).decompose()"
   ]
  },
  {
   "cell_type": "code",
   "execution_count": 13,
   "id": "8b264dd1-5f67-4cc2-8b9d-85e34deed4e7",
   "metadata": {},
   "outputs": [
    {
     "data": {
      "text/latex": [
       "$3333.3333 \\; \\mathrm{}$"
      ],
      "text/plain": [
       "<Quantity 3333.33333333>"
      ]
     },
     "execution_count": 13,
     "metadata": {},
     "output_type": "execute_result"
    }
   ],
   "source": [
    "# ratio of 10 MeV gamma ray vs a 3 keV x-ray:\n",
    "\n",
    "mev = 1e6 * u.eV\n",
    "kev = 1e3 * u.eV\n",
    "((10*mev)/(3*kev)).decompose()"
   ]
  },
  {
   "cell_type": "code",
   "execution_count": 15,
   "id": "d8b0fb02-b9c3-4c9a-b440-64472d428068",
   "metadata": {},
   "outputs": [
    {
     "data": {
      "text/latex": [
       "$4.5 \\times 10^{-10} \\; \\mathrm{}$"
      ],
      "text/plain": [
       "<Quantity 4.5e-10>"
      ]
     },
     "execution_count": 15,
     "metadata": {},
     "output_type": "execute_result"
    }
   ],
   "source": [
    "# solar power intercepted by earth vs luminosity of the sun\n",
    "\n",
    "e_int_sp = 4.5e-10 * u.Lsun # (via quick google)\n",
    "(e_int_sp / u.Lsun).decompose()"
   ]
  },
  {
   "cell_type": "markdown",
   "id": "55b9d77a-7b74-4111-adb2-db9159b132f9",
   "metadata": {},
   "source": [
    "#### What is the distance to the sun from the Earth?\n",
    "The speed of the earth in its nearly circular orbit about the sun is found to be 29.8 km/s using spectroscopic methods. The sidereal period of the earth’s orbit is 365.256 d. (1 d = 86 400s). "
   ]
  },
  {
   "cell_type": "code",
   "execution_count": 17,
   "id": "5e124238-26e2-4674-b1f7-6f414a74260b",
   "metadata": {},
   "outputs": [
    {
     "data": {
      "text/latex": [
       "$92955807 \\; \\mathrm{mi}$"
      ],
      "text/plain": [
       "<Quantity 92955807.27302553 mi>"
      ]
     },
     "execution_count": 17,
     "metadata": {},
     "output_type": "execute_result"
    }
   ],
   "source": [
    "(u.AU).to(u.imperial.mile) * u.imperial.mile"
   ]
  },
  {
   "cell_type": "markdown",
   "id": "4c80d587-bdf5-4357-ac12-3d4c0b0680fc",
   "metadata": {},
   "source": [
    "#### Choose 3 properties of celestial objects (they can be different objects), and explain at least one way to measure each using observational inputs. \n",
    "You may need to specify a particular object or class of objects (For example - Mass generically is measured in a large number of ways, depending on what you can observe. How we determine the mass of the Earth versus the Moon are different.) Please explain in your own words. Equations are allowed but not required."
   ]
  },
  {
   "cell_type": "markdown",
   "id": "226db374-ee32-484f-a495-c37c4b50d837",
   "metadata": {},
   "source": [
    "#### Pick one of the objects from this list and describe TWO properties and how you could measure them observationally.\n",
    "\n",
    "- M82\n",
    "- Edge on a nearby spiral galaxy\n",
    "- Owl Nebula/M97\n",
    "- Planetary Nebula & Central White Dwarf\n",
    "- Wolf-Rayet Star (WR124)\n",
    "- Wind Nebula and Variability\n",
    "- Crab Nebula\n",
    "- Kepler 17 (rotationally variable star)\n",
    "- Asteroid (variable - for light curves)rves) "
   ]
  },
  {
   "cell_type": "code",
   "execution_count": null,
   "id": "30234d68-ab32-4e4a-a8bf-6d4f28b0ebb5",
   "metadata": {},
   "outputs": [],
   "source": []
  }
 ],
 "metadata": {
  "kernelspec": {
   "display_name": "Python 3 (ipykernel)",
   "language": "python",
   "name": "python3"
  },
  "language_info": {
   "codemirror_mode": {
    "name": "ipython",
    "version": 3
   },
   "file_extension": ".py",
   "mimetype": "text/x-python",
   "name": "python",
   "nbconvert_exporter": "python",
   "pygments_lexer": "ipython3",
   "version": "3.10.13"
  }
 },
 "nbformat": 4,
 "nbformat_minor": 5
}
