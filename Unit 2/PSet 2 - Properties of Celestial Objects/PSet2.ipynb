{
 "cells": [
  {
   "cell_type": "code",
   "execution_count": 1,
   "id": "8a57c177-f82e-42b7-a1ea-50541a845ec9",
   "metadata": {},
   "outputs": [
    {
     "data": {
      "text/plain": [
       "'/home/jovyan'"
      ]
     },
     "metadata": {},
     "output_type": "display_data"
    }
   ],
   "source": [
    "import warnings\n",
    "import os\n",
    "display(os.getcwd())"
   ]
  },
  {
   "cell_type": "code",
   "execution_count": 1,
   "id": "066b3e53-ce67-4ee5-9747-f4f207f57b9e",
   "metadata": {},
   "outputs": [],
   "source": [
    "import numpy as np\n",
    "import pandas as pd\n",
    "import matplotlib as plt\n",
    "\n",
    "import astropy.units as u\n",
    "import astropy.coordinates as coord\n",
    "from astropy.coordinates import get_body\n",
    "from astropy.time import Time\n",
    "\n",
    "from astroplan.plots import plot_finder_image, plot_airmass\n",
    "from astroplan import Observer, FixedTarget, time_grid_from_range\n",
    "\n",
    "from astroquery.simbad import Simbad as simbad"
   ]
  },
  {
   "cell_type": "markdown",
   "id": "91d794cb-1e93-4624-a028-3bcd90712522",
   "metadata": {},
   "source": [
    "## Problem Set 2 - Properties of Celestial Objects\n",
    "One of the challenging parts of designing and executing a research project is differentiating between the results of data (our measurements), and a connection to physical properties of astronomical objects. It can be easy to get stuck on the plot we're going to make or quantity we're going to measure (because it is important, and crucial to our planning). This assignment is to practice pulling you back to the bigger picture - when we measure the apparent magnitude of something, what are we trying to learn about a system? (It could be distance, luminosity, period... and more!)\r\n",
    "\r\n",
    "It isn't something you have to do fast - that's why it has a slightly longer due date. When you have a little time to think about it, sit down and tackle it. "
   ]
  },
  {
   "cell_type": "markdown",
   "id": "2ba1c632-54c5-4bdf-b79c-7723c200b51d",
   "metadata": {},
   "source": [
    "#### Find the following ratios to one place accuracy. Give the values that go into the ratios in convenient units (not necessarily SI) and make some comment on each that will help you visualize them.\n",
    "A. <u>Size & Distance (Select two values to compare)</u>\n",
    "- <b> Radius of Earth TO radius of a marble </b>\n",
    "- <b> Distance to sun TO radius of sun </b>\n",
    "- Distance to center of the Milky Way Galaxy TO distance to the nearest star\n",
    "- Distance to nearest star TO diameter of a typical star like the Sun\n",
    "- Distance to M31 TO diameter of the Milky Way Galaxy\n",
    "\n",
    "B. <u>Energy (Select one to answer from)</u>\n",
    "- <b> 10-MeV gamma ray TO a 3-keV x-ray </b>\n",
    "- 3-keV x-ray TO a 500nm visible photon\n",
    "- 500nm visible photon TO a 10m radio wave\n",
    "\n",
    "C. <u>Power (Answer both in)</u>\n",
    "- <b> Solar power intercepted by Earth TO luminosity of sun </b>\n",
    "- <b> Luminosity of the Galaxy TO the luminosity of the sun </b>"
   ]
  },
  {
   "cell_type": "code",
   "execution_count": 11,
   "id": "2dc40a4b-993e-49f0-94a1-06699983085d",
   "metadata": {},
   "outputs": [
    {
     "data": {
      "text/latex": [
       "$4.9062308 \\times 10^{8} \\; \\mathrm{}$"
      ],
      "text/plain": [
       "<Quantity 4.90623077e+08>"
      ]
     },
     "execution_count": 11,
     "metadata": {},
     "output_type": "execute_result"
    }
   ],
   "source": [
    "# ratio of Earth's radius vs average marble radius:\n",
    "\n",
    "(u.earthRad / (0.013 * u.m)).decompose()"
   ]
  },
  {
   "cell_type": "code",
   "execution_count": 12,
   "id": "1e132309-62b1-4741-ae97-78264dfd5b4c",
   "metadata": {},
   "outputs": [
    {
     "data": {
      "text/latex": [
       "$\\mathrm{215.03216}$"
      ],
      "text/plain": [
       "Unit(dimensionless with a scale of 215.03215567054764)"
      ]
     },
     "execution_count": 12,
     "metadata": {},
     "output_type": "execute_result"
    }
   ],
   "source": [
    "# ratio of distance to sun vs radius of sun:\n",
    "\n",
    "(u.AU / u.solRad).decompose()"
   ]
  },
  {
   "cell_type": "code",
   "execution_count": 13,
   "id": "8b264dd1-5f67-4cc2-8b9d-85e34deed4e7",
   "metadata": {},
   "outputs": [
    {
     "data": {
      "text/latex": [
       "$3333.3333 \\; \\mathrm{}$"
      ],
      "text/plain": [
       "<Quantity 3333.33333333>"
      ]
     },
     "execution_count": 13,
     "metadata": {},
     "output_type": "execute_result"
    }
   ],
   "source": [
    "# ratio of 10 MeV gamma ray vs a 3 keV x-ray:\n",
    "\n",
    "mev = 1e6 * u.eV\n",
    "kev = 1e3 * u.eV\n",
    "((10*mev)/(3*kev)).decompose()"
   ]
  },
  {
   "cell_type": "code",
   "execution_count": 15,
   "id": "d8b0fb02-b9c3-4c9a-b440-64472d428068",
   "metadata": {},
   "outputs": [
    {
     "data": {
      "text/latex": [
       "$4.5 \\times 10^{-10} \\; \\mathrm{}$"
      ],
      "text/plain": [
       "<Quantity 4.5e-10>"
      ]
     },
     "execution_count": 15,
     "metadata": {},
     "output_type": "execute_result"
    }
   ],
   "source": [
    "# solar power intercepted by earth vs luminosity of the sun\n",
    "\n",
    "e_int_sp = 4.5e-10 * u.Lsun # (via quick google)\n",
    "(e_int_sp / u.Lsun).decompose()"
   ]
  },
  {
   "cell_type": "code",
   "execution_count": 17,
   "id": "0462119a-7995-41dd-84c1-d03feaac6513",
   "metadata": {},
   "outputs": [
    {
     "data": {
      "text/latex": [
       "$1.3061651 \\times 10^{10} \\; \\mathrm{}$"
      ],
      "text/plain": [
       "<Quantity 1.3061651e+10>"
      ]
     },
     "execution_count": 17,
     "metadata": {},
     "output_type": "execute_result"
    }
   ],
   "source": [
    "# luminosity of the galaxy vs the luminosity of the sun\n",
    "\n",
    "# via quick google:\n",
    "gal_lume = 5e36 * u.W \n",
    "sol_lume = 3.828e26 * u.W\n",
    "gal_lume / sol_lume"
   ]
  },
  {
   "cell_type": "markdown",
   "id": "55b9d77a-7b74-4111-adb2-db9159b132f9",
   "metadata": {},
   "source": [
    "#### What is the distance to the sun from the Earth?\n",
    "The speed of the earth in its nearly circular orbit about the sun is found to be 29.8 km/s using spectroscopic methods. The sidereal period of the earth’s orbit is 365.256 d. (1 d = 86 400s). "
   ]
  },
  {
   "cell_type": "code",
   "execution_count": 17,
   "id": "5e124238-26e2-4674-b1f7-6f414a74260b",
   "metadata": {},
   "outputs": [
    {
     "data": {
      "text/latex": [
       "$92955807 \\; \\mathrm{mi}$"
      ],
      "text/plain": [
       "<Quantity 92955807.27302553 mi>"
      ]
     },
     "execution_count": 17,
     "metadata": {},
     "output_type": "execute_result"
    }
   ],
   "source": [
    "(u.AU).to(u.imperial.mile) * u.imperial.mile"
   ]
  },
  {
   "cell_type": "markdown",
   "id": "4c80d587-bdf5-4357-ac12-3d4c0b0680fc",
   "metadata": {},
   "source": [
    "#### Choose 3 properties of celestial objects (they can be different objects), and explain at least one way to measure each using observational inputs. \n",
    "You may need to specify a particular object or class of objects (For example - Mass generically is measured in a large number of ways, depending on what you can observe. How we determine the mass of the Earth versus the Moon are different.) Please explain in your own words. Equations are allowed but not required."
   ]
  },
  {
   "cell_type": "markdown",
   "id": "d65d2bed-500a-4c90-87e3-cba3d36fe149",
   "metadata": {},
   "source": [
    "1. <b>CMB polarization:</b> observe/measure it's temperature spectra from a light detector to analyze the polarization in light propogation at the surface of last scattering. Can be used to indirectly infer gravitational fluctuations at the beginning of the Universe that could prove the inflation theory.\n",
    "2. <b>N-body systems:</b> observe light and interactions between bodies. Can be used to compute mass of each body and their gravitational influence on each other (via the mass-luminosity function) to predict their pathing in the future (except for 3+ body systems... still a challenge today). Same use can apply to observatories like LIGO specializing in gravitational waves. Example: predicting the outcome of two interacting galaxies or how their interactions could infer the presence of dark matter.\n",
    "3. <b>Stellar formation:</b> measure the light of an interacting pair in the $H-\\alpha$ and R-band filter to obtain their light spectra and analyze levels of hydrogen ionization. Can be used to infer star formation activity of a galaxy and how that gets affected from interactions with another body."
   ]
  },
  {
   "cell_type": "markdown",
   "id": "226db374-ee32-484f-a495-c37c4b50d837",
   "metadata": {},
   "source": [
    "#### Pick one of the objects from this list and describe TWO properties and how you could measure them observationally.\n",
    "\n",
    "- M82\n",
    "- Edge on a nearby spiral galaxy\n",
    "- Owl Nebula/M97\n",
    "- Planetary Nebula & Central White Dwarf\n",
    "- Wolf-Rayet Star (WR124)\n",
    "- Wind Nebula and Variability\n",
    "- Crab Nebula\n",
    "- Kepler 17 (rotationally variable star)\n",
    "- Asteroid (variable - for light curves) "
   ]
  },
  {
   "cell_type": "markdown",
   "id": "2d20959b-74db-490c-b61b-177770750b80",
   "metadata": {},
   "source": [
    "<b>M82</b>\n",
    "\n",
    "1.  redshift: via spectroscopy, measure the shift of components of light in a spectrum. Can be used to tell us how fast the galaxy is moving but also the expansion rate of the Universe\n",
    "2.  absolute magnitude: via photometry (at the ultraviolet, visible, or infrared wavelength), get the apparent magnitude (how bright an object appears from Earth). Assuming you know the distance (or can obtain it through methods like parallax or something along the cosmic distance ladder), you can use these two things together to calculate the absolute magnitude, or the true brightness of an object."
   ]
  },
  {
   "cell_type": "code",
   "execution_count": null,
   "id": "ab736538-2d16-415a-818a-00cecdd6fd9e",
   "metadata": {},
   "outputs": [],
   "source": []
  }
 ],
 "metadata": {
  "kernelspec": {
   "display_name": "Python 3 (ipykernel)",
   "language": "python",
   "name": "python3"
  },
  "language_info": {
   "codemirror_mode": {
    "name": "ipython",
    "version": 3
   },
   "file_extension": ".py",
   "mimetype": "text/x-python",
   "name": "python",
   "nbconvert_exporter": "python",
   "pygments_lexer": "ipython3",
   "version": "3.10.13"
  }
 },
 "nbformat": 4,
 "nbformat_minor": 5
}
