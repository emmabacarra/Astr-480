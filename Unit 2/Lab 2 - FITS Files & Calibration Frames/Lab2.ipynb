{
 "cells": [
  {
   "cell_type": "code",
   "execution_count": 1,
   "metadata": {},
   "outputs": [],
   "source": [
    "import numpy as np\n",
    "import matplotlib.pyplot as plt"
   ]
  },
  {
   "cell_type": "markdown",
   "metadata": {},
   "source": [
    "## Section 1: Examining Fits Files Using DS9"
   ]
  },
  {
   "cell_type": "markdown",
   "metadata": {},
   "source": [
    "#### 1. Download the 4 necessary fits files from Canvas. \n",
    "\n",
    "First you are going to look at a flat field. Flat fields have been exposed to a source of light that \n",
    "illuminates the CCD (fairly) evenly across all the pixels. This helps us understand how individual \n",
    "pixels respond differently to similar stimulus. Understanding basic behavior of individual CCDs is \n",
    "important when we start to separate signal (the electrons that are generated from photons), from \n",
    "the noise."
   ]
  },
  {
   "cell_type": "markdown",
   "metadata": {},
   "source": [
    "#### 2.  Display flat.0012.fits. Set the scaling so you can see more than a flat image (feel free to change the color range if you’d like.) \n",
    "\n",
    "Q1: We’re using data from ARCTIC, an imager on the APO 3.5m. If you correctly adjust your scale, you might find some surprising features in this “flat”. Is it flat? What makes it not flat? Describe what you see"
   ]
  },
  {
   "cell_type": "code",
   "execution_count": null,
   "metadata": {},
   "outputs": [],
   "source": []
  },
  {
   "cell_type": "markdown",
   "metadata": {},
   "source": []
  },
  {
   "cell_type": "markdown",
   "metadata": {},
   "source": [
    "#### 3. Draw a test region. For this, we’ll use a box. Go to the “Region” menu, go down to shape, and select “Box”. Then draw a region on your chip."
   ]
  },
  {
   "cell_type": "markdown",
   "metadata": {},
   "source": [
    "#### 4.  Let’s examine what we can find out about the region you’ve selected. \n",
    "\n",
    "Under the “Region” menu, click on “Get Information”.  Explore under the “Analysis” menu. Can you make a histogram? Can you adjust its axes? Can you find a way to look at the statistics of the region? Can you figure out more than one way to see the standard deviation of your region?"
   ]
  },
  {
   "cell_type": "markdown",
   "metadata": {},
   "source": []
  },
  {
   "cell_type": "markdown",
   "metadata": {},
   "source": [
    "Q2:  Measure at least three regions (at least one bias/overscan), and list them in data like the one below. The image regions should be ~10,000 pixels (area) - not giant, but not tiny. We want to have a good statistical sample."
   ]
  },
  {
   "cell_type": "code",
   "execution_count": null,
   "metadata": {},
   "outputs": [],
   "source": []
  },
  {
   "cell_type": "markdown",
   "metadata": {},
   "source": [
    "Q3: Plot this histograms of at least one image and one overscan region. Play with the plot ranges to best display the \n",
    "similarities and differences. Include the plots in your response. Do either of them look familiar? Do they look similar \n",
    "or different? Describe them"
   ]
  },
  {
   "cell_type": "code",
   "execution_count": null,
   "metadata": {},
   "outputs": [],
   "source": []
  },
  {
   "cell_type": "markdown",
   "metadata": {},
   "source": [
    "Q4: Now open bias.0002.fits . This is also from ARCTIC but is a bias frame - it hasn’t been exposed to light. \n",
    "Measure several regions, but this time just change the size of the region. Collect the data in a table like the one \n",
    "below."
   ]
  },
  {
   "cell_type": "code",
   "execution_count": null,
   "metadata": {},
   "outputs": [],
   "source": []
  },
  {
   "cell_type": "markdown",
   "metadata": {},
   "source": [
    "Q5:  Present the bias histograms and note how the histograms change from a small region to a large region. What do \n",
    "you think is happening with the distribution? Why? \n"
   ]
  },
  {
   "cell_type": "code",
   "execution_count": null,
   "metadata": {},
   "outputs": [],
   "source": []
  },
  {
   "cell_type": "markdown",
   "metadata": {},
   "source": [
    "## Section 2: Headers"
   ]
  },
  {
   "cell_type": "markdown",
   "metadata": {},
   "source": []
  }
 ],
 "metadata": {
  "kernelspec": {
   "display_name": "CMDresearch",
   "language": "python",
   "name": "python3"
  },
  "language_info": {
   "codemirror_mode": {
    "name": "ipython",
    "version": 3
   },
   "file_extension": ".py",
   "mimetype": "text/x-python",
   "name": "python",
   "nbconvert_exporter": "python",
   "pygments_lexer": "ipython3",
   "version": "3.11.8"
  }
 },
 "nbformat": 4,
 "nbformat_minor": 2
}
