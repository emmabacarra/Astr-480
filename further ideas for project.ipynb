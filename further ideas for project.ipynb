{
 "cells": [
  {
   "cell_type": "markdown",
   "metadata": {},
   "source": [
    "ideas for later\n",
    "- broaden analysis and look at multiple galaxies\n",
    "- use machine learning with H-$\\alpha$ Balmer Line emission data as targets given flux data in various wavelengths/filters\n",
    "- unsupervised learning? literally just copy cmd research lmfao\n",
    "- intention is to give model a bunch of information about galaxies, and see if it can draw connection between those and SFR rates\n",
    "- potentially identify new patterns/correlations between data and H-$\\alpha$ lines that tell more about SFRs\n",
    "- train and compare with interacting and non-interacting galaxies"
   ]
  },
  {
   "cell_type": "markdown",
   "metadata": {},
   "source": [
    "links:\n",
    "\n",
    "[H-$\\alpha$ flux measurements from SDSS](https://www.aanda.org/articles/aa/full_html/2019/02/aa32487-17/aa32487-17.html#S6:~:text=SDSS%20H%CE%B1%20flux%20estimates%20by%20the%20Portsmouth%20group)\n",
    "\n",
    "[SDSS Data Release 17](https://www.sdss4.org/dr17/data_access)\n",
    "\n",
    "[Simbad Astroquery documentation](https://astroquery.readthedocs.io/en/latest/simbad/simbad.html)\n",
    "\n",
    "[Measurements in Simbad Database](https://simbad.u-strasbg.fr/simbad/sim-display?data=meas)\n",
    "\n",
    "[Geeks For Geeks: Unsupervised Neural Network Models](https://www.geeksforgeeks.org/unsupervised-neural-network-models/)"
   ]
  }
 ],
 "metadata": {
  "kernelspec": {
   "display_name": "CMDresearch",
   "language": "python",
   "name": "python3"
  },
  "language_info": {
   "name": "python",
   "version": "3.11.8"
  }
 },
 "nbformat": 4,
 "nbformat_minor": 2
}
