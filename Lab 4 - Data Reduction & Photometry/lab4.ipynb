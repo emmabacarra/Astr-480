{
 "cells": [
  {
   "cell_type": "code",
   "execution_count": 1,
   "metadata": {},
   "outputs": [
    {
     "data": {
      "text/plain": [
       "'c:\\\\Users\\\\ebaca\\\\Desktop\\\\University of Washington\\\\3rd Year\\\\Astr-480\\\\Lab 4 - Data Reduction & Photometry'"
      ]
     },
     "execution_count": 1,
     "metadata": {},
     "output_type": "execute_result"
    }
   ],
   "source": [
    "import os\n",
    "import sys\n",
    "import re\n",
    "os.getcwd()"
   ]
  },
  {
   "cell_type": "code",
   "execution_count": 2,
   "metadata": {},
   "outputs": [],
   "source": [
    "sys.path.append('..\\\\..\\\\interacting_galaxies')\n",
    "from funcrefs import fnrefs as rfs\n",
    "from funcrefs import convenience_functions as cf\n",
    "\n",
    "import numpy as np\n",
    "import astropy.units as u\n",
    "\n",
    "import matplotlib.pyplot as plt\n",
    "import astropy.visualization as vis\n",
    "\n",
    "from astropy.io import fits\n",
    "from astropy.wcs import WCS\n",
    "import ccdproc as ccdp\n",
    "from astropy.nddata import CCDData"
   ]
  },
  {
   "cell_type": "markdown",
   "metadata": {},
   "source": [
    "Notes for Observation Shifts\n",
    "- for ngc 2998 if the picture given looks weird it's probably the spectrum pic\n",
    "- darks are the same length as images you want to reduce (but you can also add some together)\n",
    "- create a table that lists file names, filter, exposure time, and kind of file\n",
    "- manually check for correct settings by downloading and opening fits file (don't trust preview screen)\n",
    "- keep original data as raw\n",
    "- [ccd data reduction guide](https://ccdproc.readthedocs.io/en/latest/)\n",
    "- no overscans on ARCSAT"
   ]
  },
  {
   "cell_type": "markdown",
   "metadata": {},
   "source": [
    "## <b>Data Reduction</b>"
   ]
  },
  {
   "cell_type": "markdown",
   "metadata": {},
   "source": [
    "#### <u>Bias & Overscan</u>\n",
    "\n",
    "1. <b>Define the bias. Include both a description of what it looks like physically, why it occurs, and how we take it into account (how do we remove its effect on our data images?)</b>\n",
    "\n",
    "    A bias is a 0-second blank photo that records noise coming from the lens.\n",
    "\n",
    "2. <b>Why would we use more than one bias frame?</b>\n",
    "\n",
    "    The more bias frames you have the better you can remove noisy data from the pure photometric data. \n",
    "    This is helpful for being more precise with your values.\n",
    "\n",
    "3. <b>List the average value of each of your bias frames, as well as your final master bias.</b>\n",
    "\n",
    "    See below.\n",
    "\n",
    "4. <b>Define \"overscan\".</b>\n",
    "\n",
    "    \n",
    "\n",
    "5. <s><b>Skip 5 (ARCSAT has no overscan)</b></s>"
   ]
  },
  {
   "cell_type": "code",
   "execution_count": 3,
   "metadata": {},
   "outputs": [
    {
     "name": "stdout",
     "output_type": "stream",
     "text": [
      "Average Bias Values (for each file)\n",
      "1292.332\n",
      "1292.311\n",
      "1292.364\n",
      "1292.303\n",
      "1292.327\n",
      "1292.282\n",
      "1292.422\n",
      "1292.429\n",
      "1292.397\n",
      "1292.422\n",
      "1292.411\n",
      "1292.365\n",
      "1292.364\n",
      "Standard Deviation: 0.048\n",
      "\n",
      "Master Bias avg: 1292.364\n"
     ]
    }
   ],
   "source": [
    "m_bias = fits.open('../../interacting_galaxies/biases/master_bias.fits')[0].data\n",
    "m_bias = np.nan_to_num(m_bias.astype(float))\n",
    "\n",
    "files = []\n",
    "print(\"Average Bias Values (for each file)\")\n",
    "for file in os.listdir('../../interacting_galaxies/biases'):\n",
    "    with fits.open('../../interacting_galaxies/biases/' + file) as hdul:\n",
    "        data = hdul[0].data\n",
    "        print(f\"{np.mean(data):.3f}\")\n",
    "        files.append(np.mean(data))\n",
    "print(f\"Standard Deviation: {np.std(files):.3f}\")\n",
    "\n",
    "print(f\"\\nMaster Bias avg: {np.mean(m_bias):.3f}\")"
   ]
  },
  {
   "cell_type": "markdown",
   "metadata": {},
   "source": [
    "#### <u>Flat Fields</u>\n",
    "\n",
    "6. <b>Which filters do you have flat fields for? List the flat field file names for each filter that you need. Do you have more flats than you need? Confirm that your flat fields have the same binning as your data.</b>\n",
    "\n",
    "    Filters: g, H-$\\alpha$, i, r. \n",
    "    \n",
    "    I'm not sure if there's a minimum amount of flats to have but in my opinion it doesn't hurt to have more! There are 5 flats for each filter. \n",
    "    \n",
    "    See below for file names and confirming binning.\n",
    "\n",
    "7. <b>Why do we need flat fields for each filter we have used for observations?</b>\n",
    "\n",
    "    Similar to biases, these help to remove noise in the raw photometric data but are helpful for specifically pinpointing noise more prevalent in the correlating filter. Biases are more general and pertain to the noise coming from the telescope itself, where flats are for noise coming from the atmosphere or other parts of the sky."
   ]
  },
  {
   "cell_type": "code",
   "execution_count": 9,
   "metadata": {},
   "outputs": [
    {
     "name": "stdout",
     "output_type": "stream",
     "text": [
      "[[18574.58333333 18196.33333333 18211.91666667 ... 18013.33333333\n",
      "  17930.55555556 18025.52777778]\n",
      " [18534.02777778 18160.02777778 18303.13888889 ... 17917.16666667\n",
      "  17871.52777778 18006.77777778]\n",
      " [18484.69444444 18163.77777778 18158.30555556 ... 18056.22222222\n",
      "  17985.         18057.91666667]\n",
      " ...\n",
      " [18101.44444444 17715.58333333 17587.77777778 ... 18005.58333333\n",
      "  18069.36111111 18028.16666667]\n",
      " [18135.61111111 17659.19444444 17753.25       ... 18044.55555556\n",
      "  18214.         17979.61111111]\n",
      " [18141.47222222 17692.36111111 17696.97222222 ... 18236.69444444\n",
      "  18198.72222222 18165.55555556]]\n",
      "[[18451.72222222 18342.63888889 18295.44444444 ... 18075.44444444\n",
      "  17989.66666667 18310.38888889]\n",
      " [18717.63888889 18095.02777778 18296.33333333 ... 18102.41666667\n",
      "  18058.16666667 18054.13888889]\n",
      " [18586.5        18359.75       18618.44444444 ... 18078.05555556\n",
      "  17957.75       18102.13888889]\n",
      " ...\n",
      " [17890.94444444 17590.77777778 17557.86111111 ... 17926.83333333\n",
      "  17946.5        17940.55555556]\n",
      " [17968.61111111 17602.86111111 17745.52777778 ... 17910.33333333\n",
      "  17988.80555556 17805.97222222]\n",
      " [18090.25       17523.41666667 17529.88888889 ... 18087.11111111\n",
      "  17866.52777778 18097.77777778]]\n",
      "[[18984.11111111 18709.5        18664.11111111 ... 18151.27777778\n",
      "  18109.63888889 18168.33333333]\n",
      " [19004.44444444 18643.08333333 18812.58333333 ... 18025.16666667\n",
      "  18120.19444444 18142.19444444]\n",
      " [18980.75       18606.97222222 18700.02777778 ... 18130.94444444\n",
      "  18262.16666667 18094.86111111]\n",
      " ...\n",
      " [18524.55555556 18155.22222222 18075.02777778 ... 18024.80555556\n",
      "  18131.97222222 18185.75      ]\n",
      " [18564.         18230.05555556 18172.5        ... 18071.11111111\n",
      "  18188.11111111 18043.75      ]\n",
      " [18647.44444444 18142.38888889 18035.25       ... 18121.86111111\n",
      "  18219.5        18212.30555556]]\n",
      "[[19040.05555556 18730.94444444 18721.19444444 ... 18580.\n",
      "  18491.08333333 18559.55555556]\n",
      " [19166.13888889 18643.36111111 18876.36111111 ... 18468.27777778\n",
      "  18626.05555556 18573.33333333]\n",
      " [19038.61111111 18723.41666667 18612.86111111 ... 18587.94444444\n",
      "  18616.33333333 18535.36111111]\n",
      " ...\n",
      " [18591.27777778 18213.77777778 18211.19444444 ... 18484.25\n",
      "  18635.63888889 18628.75      ]\n",
      " [18737.5        18216.38888889 18208.83333333 ... 18574.36111111\n",
      "  18649.44444444 18517.72222222]\n",
      " [18736.5        18271.63888889 18206.83333333 ... 18596.52777778\n",
      "  18693.02777778 18665.        ]]\n",
      "\n",
      "[g flats] (5 files)\n",
      "domeflat_g_001-2_050224.fits\n",
      "domeflat_g_001_050224.fits\n",
      "domeflat_g_001_050524.fits\n",
      "domeflat_g_002_050524.fits\n",
      "domeflat_g_003_050524.fits\n",
      "\n",
      "[ha flats] (5 files)\n",
      "domeflat_Ha_001-2_050224.fits\n",
      "domeflat_Ha_001_050224.fits\n",
      "domeflat_Ha_001_050524.fits\n",
      "domeflat_Ha_002_050524.fits\n",
      "domeflat_Ha_003_050524.fits\n",
      "\n",
      "[i flats] (5 files)\n",
      "domeflat_i_001-2_050224.fits\n",
      "domeflat_i_001_050224.fits\n",
      "domeflat_i_001_050524.fits\n",
      "domeflat_i_002_050524.fits\n",
      "domeflat_i_003_050524.fits\n",
      "\n",
      "[r flats] (5 files)\n",
      "domeflat_r_001-2_050224.fits\n",
      "domeflat_r_001_050224.fits\n",
      "domeflat_r_001_050524.fits\n",
      "domeflat_r_002_050524.fits\n",
      "domeflat_r_003_050524.fits\n"
     ]
    }
   ],
   "source": [
    "master_flats = {}\n",
    "for filter in [\"g\", \"ha\", \"i\", \"r\"]:\n",
    "    m_flat = fits.open(f'../../interacting_galaxies/flats/{filter} flats/master_{filter}filter.fits')[0].data\n",
    "    m_flat = np.nan_to_num(m_flat.astype(float))\n",
    "    print(m_flat)\n",
    "    # m_flat = rfs.normalize(m_flat, min(m_flat), max(m_flat))\n",
    "    master_flats[filter] = m_flat\n",
    "\n",
    "\n",
    "for filter in [\"g flats\", \"ha flats\", \"i flats\", \"r flats\"]:\n",
    "    nm = [file for file in os.listdir(os.path.relpath(\"../../interacting_galaxies/flats/\" + filter)) if file.startswith('domeflat')]\n",
    "\n",
    "    print(f\"\\n[{filter}] ({len(nm)} files)\")\n",
    "    print(\"\\n\".join(nm))"
   ]
  },
  {
   "cell_type": "markdown",
   "metadata": {},
   "source": [
    "#### <u>Darks</u>\n",
    "\n",
    "If your science images here are short, the dark current is extremely low and so we ignore it here. If you are taking longer images, or on instruments with lots of dark current, you can’t neglect this term of the noise in reduction. Make sure to take into account darks"
   ]
  },
  {
   "cell_type": "code",
   "execution_count": null,
   "metadata": {},
   "outputs": [],
   "source": [
    "m_dark = fits.open('../../interacting_galaxies/darks/master_dark.fits')[0].data\n",
    "m_dark = np.nan_to_num(m_dark.astype(float))"
   ]
  },
  {
   "cell_type": "markdown",
   "metadata": {},
   "source": [
    "## <b>Data Analysis (Photometry)</b>\n",
    "\n",
    "You now have images that are as close as we can get to what was emitted from our source. You can either use one of the broadband images from your project data or download the image from Canvas to use for this portion of the lab. It will provide an example for the different approaches to photometry you can then use for your project. (The next portion looks for point sources - if you use an image that has a diffuse image, like the nebulas, it might do some weird things for some of the options like DAOStarFinder. If you’re having trouble navigating that - just grab the image on canvas.)\n",
    "\n",
    "We are going to use the [“photutils”](https://photutils.readthedocs.io/en/stable/) python package to measure the signal.\n",
    "\n",
    "#### <u>The Sky</u>"
   ]
  },
  {
   "cell_type": "markdown",
   "metadata": {},
   "source": [
    "We are going to be subtracting the sky on the fly as we use aperture photometry to calculate the flux of the stars in our field. If your primary science object is diffuse or extended just choose a stars in your field that aren’t overexposed/saturated as your object.\n",
    "\n",
    "8. What drawbacks could exist from this method of sky subtraction?\n",
    "\n",
    "9. Why does sky subtraction matter?"
   ]
  },
  {
   "cell_type": "code",
   "execution_count": null,
   "metadata": {},
   "outputs": [],
   "source": []
  },
  {
   "cell_type": "markdown",
   "metadata": {},
   "source": [
    "Identify the sources to perform photometry on in your image. DAOStarFinder is one \n",
    "method provided within photutils. Plot the stars found on top of your image. Adjust your parameters to select a smaller set of stars (Between 10-100ish. Depending on your image). Replot. Remove any “bad” stars from the sources array by hand (hot spots, stars on the edge, stars on the overscan)\n",
    "\n",
    "10.  How many objects did you identify with DAOStarFinder? Look at your image. Do you think that’s a reasonable number? What did you change to adjust the number of stars detected? How many stars did you end up with?"
   ]
  },
  {
   "cell_type": "code",
   "execution_count": null,
   "metadata": {},
   "outputs": [],
   "source": []
  },
  {
   "cell_type": "markdown",
   "metadata": {},
   "source": [
    "Photutils provides many different kinds of apertures. We will use two here, but other cases (such as galaxies) might require apertures that aren’t round. First, use the “circular aperture” Choose your method and execute your aperture photometry. Review the output. Then plot your apertures on top of your image.  \n",
    "\n",
    "11. Are you happy with your apertures? Why or why not? Save the list of sources for comparison."
   ]
  },
  {
   "cell_type": "code",
   "execution_count": null,
   "metadata": {},
   "outputs": [],
   "source": []
  },
  {
   "cell_type": "markdown",
   "metadata": {},
   "source": [
    "Now we’re going to do the same thing, but instead of using just a circular aperture, we’re going to use annuli. This means you can specify a region for the star, and a nearby region for the sky. This allows us to use the sky that is close to the individual objects to subtract.\n",
    "\n",
    "Pick your object aperture and note it in your Q12 answers. \n",
    "Pick your sky annulus minimum and maximum note it in your Q12 answers.\n",
    "\n",
    "Now, run as above, except using the “CircularAnnulus” command. Use these two measurements of flux to remove the background from the originally measured flux, and print those results.\n",
    "\n",
    "12. Make a plot comparing the measurements of the two different methods"
   ]
  },
  {
   "cell_type": "code",
   "execution_count": null,
   "metadata": {},
   "outputs": [],
   "source": []
  },
  {
   "cell_type": "markdown",
   "metadata": {},
   "source": [
    "Use PSF fitting to calculate the flux of the same set of sources you found with \n",
    "DAOstarfinder. Make sure to sky subtract\n",
    "\n",
    "13. Make a plot comparing the PSF fitting output to the aperture output. Are they the same? Why or why not? \n",
    "\n",
    "14. What do you need to do differently for your science image? (For example - are you studying one point source, many point sources, or a diffuse object? What does that change?) \n",
    "\n",
    "15. Did you prefer PSF fitting or aperture photometry? Think of one situation that you think would be best for each method."
   ]
  }
 ],
 "metadata": {
  "kernelspec": {
   "display_name": "base",
   "language": "python",
   "name": "python3"
  },
  "language_info": {
   "codemirror_mode": {
    "name": "ipython",
    "version": 3
   },
   "file_extension": ".py",
   "mimetype": "text/x-python",
   "name": "python",
   "nbconvert_exporter": "python",
   "pygments_lexer": "ipython3",
   "version": "3.11.8"
  }
 },
 "nbformat": 4,
 "nbformat_minor": 2
}
