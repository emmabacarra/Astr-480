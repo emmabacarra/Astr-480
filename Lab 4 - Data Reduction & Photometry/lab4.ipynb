{
 "cells": [
  {
   "cell_type": "markdown",
   "metadata": {},
   "source": [
    "- for ngc 2998 if the picture given looks weird it's probably the spectrum pic\n",
    "- darks are the same length as images you want to reduce (but you can also add some together)"
   ]
  }
 ],
 "metadata": {
  "kernelspec": {
   "display_name": "base",
   "language": "python",
   "name": "python3"
  },
  "language_info": {
   "name": "python",
   "version": "3.11.8"
  }
 },
 "nbformat": 4,
 "nbformat_minor": 2
}
