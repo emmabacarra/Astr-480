{
 "cells": [
  {
   "cell_type": "markdown",
   "metadata": {},
   "source": [
    "- for ngc 2998 if the picture given looks weird it's probably the spectrum pic\n",
    "- darks are the same length as images you want to reduce (but you can also add some together)\n",
    "- create a table that lists file names, filter, exposure time, and kind of file\n",
    "- manually check for correct settings by downloading and opening fits file (don't trust preview screen)\n",
    "- keep original data as raw\n",
    "- [ccd data reduction guide](https://ccdproc.readthedocs.io/en/latest/)"
   ]
  },
  {
   "cell_type": "markdown",
   "metadata": {},
   "source": []
  }
 ],
 "metadata": {
  "kernelspec": {
   "display_name": "base",
   "language": "python",
   "name": "python3"
  },
  "language_info": {
   "name": "python",
   "version": "3.11.8"
  }
 },
 "nbformat": 4,
 "nbformat_minor": 2
}
